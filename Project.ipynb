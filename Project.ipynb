{
 "cells": [
  {
   "cell_type": "code",
   "execution_count": 1,
   "metadata": {},
   "outputs": [],
   "source": [
    "import pandas as pd\n",
    "import numpy as np\n",
    "import matplotlib.pyplot as plt\n",
    "import plotly.express as px"
   ]
  },
  {
   "cell_type": "code",
   "execution_count": 3,
   "metadata": {},
   "outputs": [
    {
     "data": {
      "text/html": [
       "<div>\n",
       "<style scoped>\n",
       "    .dataframe tbody tr th:only-of-type {\n",
       "        vertical-align: middle;\n",
       "    }\n",
       "\n",
       "    .dataframe tbody tr th {\n",
       "        vertical-align: top;\n",
       "    }\n",
       "\n",
       "    .dataframe thead th {\n",
       "        text-align: right;\n",
       "    }\n",
       "</style>\n",
       "<table border=\"1\" class=\"dataframe\">\n",
       "  <thead>\n",
       "    <tr style=\"text-align: right;\">\n",
       "      <th></th>\n",
       "      <th>Entity</th>\n",
       "      <th>Code</th>\n",
       "      <th>Year</th>\n",
       "      <th>Period life expectancy at birth - Sex: total - Age: 0</th>\n",
       "    </tr>\n",
       "  </thead>\n",
       "  <tbody>\n",
       "    <tr>\n",
       "      <th>0</th>\n",
       "      <td>Afghanistan</td>\n",
       "      <td>AFG</td>\n",
       "      <td>1950</td>\n",
       "      <td>28.1563</td>\n",
       "    </tr>\n",
       "    <tr>\n",
       "      <th>1</th>\n",
       "      <td>Afghanistan</td>\n",
       "      <td>AFG</td>\n",
       "      <td>1951</td>\n",
       "      <td>28.5836</td>\n",
       "    </tr>\n",
       "    <tr>\n",
       "      <th>2</th>\n",
       "      <td>Afghanistan</td>\n",
       "      <td>AFG</td>\n",
       "      <td>1952</td>\n",
       "      <td>29.0138</td>\n",
       "    </tr>\n",
       "    <tr>\n",
       "      <th>3</th>\n",
       "      <td>Afghanistan</td>\n",
       "      <td>AFG</td>\n",
       "      <td>1953</td>\n",
       "      <td>29.4521</td>\n",
       "    </tr>\n",
       "    <tr>\n",
       "      <th>4</th>\n",
       "      <td>Afghanistan</td>\n",
       "      <td>AFG</td>\n",
       "      <td>1954</td>\n",
       "      <td>29.6975</td>\n",
       "    </tr>\n",
       "  </tbody>\n",
       "</table>\n",
       "</div>"
      ],
      "text/plain": [
       "        Entity Code  Year  \\\n",
       "0  Afghanistan  AFG  1950   \n",
       "1  Afghanistan  AFG  1951   \n",
       "2  Afghanistan  AFG  1952   \n",
       "3  Afghanistan  AFG  1953   \n",
       "4  Afghanistan  AFG  1954   \n",
       "\n",
       "   Period life expectancy at birth - Sex: total - Age: 0  \n",
       "0                                            28.1563      \n",
       "1                                            28.5836      \n",
       "2                                            29.0138      \n",
       "3                                            29.4521      \n",
       "4                                            29.6975      "
      ]
     },
     "execution_count": 3,
     "metadata": {},
     "output_type": "execute_result"
    }
   ],
   "source": [
    "df_life_exp = pd.read_csv('life-expectancy.csv')\n",
    "df_life_exp.head()"
   ]
  },
  {
   "cell_type": "markdown",
   "metadata": {},
   "source": [
    "## Life expectancy Overall Trends.\n",
    "#### Compute mean, median, and standard deviation for life expectancy across countries/continents."
   ]
  },
  {
   "cell_type": "code",
   "execution_count": null,
   "metadata": {},
   "outputs": [
    {
     "data": {
      "application/vnd.plotly.v1+json": {
       "config": {
        "plotlyServerURL": "https://plot.ly"
       },
       "data": [
        {
         "hovertemplate": "variable=Mean<br>Year=%{x}<br>value=%{y}<extra></extra>",
         "legendgroup": "Mean",
         "line": {
          "color": "#636efa",
          "dash": "solid"
         },
         "marker": {
          "symbol": "circle"
         },
         "mode": "lines",
         "name": "Mean",
         "orientation": "v",
         "showlegend": true,
         "type": "scatter",
         "x": {
          "bdata": "TgddB2wHeQeFB54HnwegB6EHogejB6QHpQemB6cHqAepB6oHqwesB60HrgevB7AHsQeyB7MHtAe1B7YHtwe4B7kHuge7B7wHvQe+B78HwAfBB8IHwwfEB8UHxgfHB8gHyQfKB8sHzAfNB84HzwfQB9EH0gfTB9QH1QfWB9cH2AfZB9oH2wfcB90H3gffB+AH4QfiB+MH5AflB+YH5wc=",
          "dtype": "i2"
         },
         "xaxis": "x",
         "y": {
          "bdata": "mpmZmZm5QUAAAAAAAIA7QHh3d3d3t0NAvLu7u7v7REBmZmZmZmY6QMRn2BUgn0pAR0qgrtu1SkBgm3rKVy9LQFSZT0NBektAtRLNFiPNS0Aw4FK7TApMQDCW/GLJR0xAV1uxv+xiTEAIQMkKa6xMQNkYTqxmjExAWKg1zTt2TED1lK/eu+xMQGPuWkI+XE1AiD4yMAWGTUDUK2UZ4rRNQANQssIaxE1AGwqyeMTnTUAAAy61yxhOQA2W1zcdMk5AWM1geX1XTkB4n9DYhHFOQBcjJVDXnU5A0B+tRLPdTkCfPCzUmg5PQGWIY13cNk9AgG3qKV9pT0DFjzF3LZFPQKOPDEyBz09AULLCGlT4T0Dv7u7u7hhQQCRy1OQ8KFBAexSuR+FAUEApXI/C9VRQQMgsaEeXYFBAfauIrbNwUEAsQO41F35QQEdy+Q/pm1BA6pWyDHGwUEDp/temnrpQQGRd3EYDzlBAX713wc3dUEA39ZSv3udQQDhCGb0t71BACPZysuf1UEBJUyrOPupQQEoMAiuHEFFAvQhAyQojUUBDQRaPeDlRQHONvJm+QlFA8kHPZtVTUUAThu5/bWhRQM9jpzKfeFFAwOyePCyGUUAhQfFjzJdRQOu9C25+rlFAU+B35vjBUUDX6pjgwdpRQMl2vp8a71FApeLsw2cAUkDQaQOdNhRSQFBobMLQJ1JArUSzxUg9UkC6JOFV6VFSQEkJ1HW7Y1JAC9rRJQlvUkBzRpT2BnlSQPUoXI/ChVJA48rGcGKPUkBrBsvrm6JSQCNKe4MvrlJAEl6VHmB2UkCXJLwqPURSQEYASlZYm1JA0duyVsfUUkA=",
          "dtype": "f8"
         },
         "yaxis": "y"
        },
        {
         "hovertemplate": "variable=Median<br>Year=%{x}<br>value=%{y}<extra></extra>",
         "legendgroup": "Median",
         "line": {
          "color": "#EF553B",
          "dash": "solid"
         },
         "marker": {
          "symbol": "circle"
         },
         "mode": "lines",
         "name": "Median",
         "orientation": "v",
         "showlegend": true,
         "type": "scatter",
         "x": {
          "bdata": "TgddB2wHeQeFB54HnwegB6EHogejB6QHpQemB6cHqAepB6oHqwesB60HrgevB7AHsQeyB7MHtAe1B7YHtwe4B7kHuge7B7wHvQe+B78HwAfBB8IHwwfEB8UHxgfHB8gHyQfKB8sHzAfNB84HzwfQB9EH0gfTB9QH1QfWB9cH2AfZB9oH2wfcB90H3gffB+AH4QfiB+MH5AflB+YH5wc=",
          "dtype": "i2"
         },
         "xaxis": "x",
         "y": {
          "bdata": "mpmZmZm5QUAAAAAAAIA7QJqZmZmZWUVAZmZmZmZmR0BmZmZmZmY6QOTyH9Jvj0tAPL1SliFuS0C62or9ZQNMQN/gC5OpVkxA9P3UeOmSTECutmJ/2dFMQB1aZDvf/0xA2BLyQc86TUB1ApoIG4pNQPgx5q4lqE1ANIC3QILuTUADCYofYyZOQGLD0ytlQU5AGeJYF7dtTkDkpZvEIIBOQARWDi2ysU5AqvHSTWLUTkD029eBcw5PQOALk6mCHU9AgEi/fR1QT0Byio7k8kdPQMwQx7q4tU9AbHh6pSznT0ByGw3gLQpQQEp7gy9MGFBAIv32deBAUEBj7lpCPk5QQJf/kH77clBApixDHOuMUECEns2qz6VQQNSa5h2ntlBA3NeBc0bQUED8y+7Jw9pQQPVKWYY4AFFAnFWfq60SUUAaUdobfBlRQPKwUGuaPVFAvAUSFD9MUUD+9nXgnGFRQBx8YTJVblFA2qz6XG2PUUBseHqlLJlRQEhy+Q/pl1FAhJ7Nqs+NUUB8YTJVMJhRQGUZ4lgXqVFAvsEXJlPHUUBn1edqK+ZRQMi6uI0G9FFAOUVHcvn5UUAYBFYOLQhSQPYGX5hMF1JAImx4eqUkUkBS2ht8YTBSQM6I0t7gSVJAysNCrWlaUkBUdCSX/3ZSQLhAguLHilJADCQofoybUkA17zhFR7BSQJ6AJsKGrVJApAG8BRLaUkC5/If02+dSQGTuWkI++lJAUPwYc9cIU0BuNIC3QBJTQATnjCjtG1NA54wo7Q0gU0BuNIC3QDRTQGpN845TOlNAfGEyVTDiUkAS8kHPZqlSQGIyVTAqF1NAINJvXwdYU0A=",
          "dtype": "f8"
         },
         "yaxis": "y"
        }
       ],
       "layout": {
        "legend": {
         "title": {
          "text": "variable"
         },
         "tracegroupgap": 0
        },
        "template": {
         "data": {
          "bar": [
           {
            "error_x": {
             "color": "#2a3f5f"
            },
            "error_y": {
             "color": "#2a3f5f"
            },
            "marker": {
             "line": {
              "color": "#E5ECF6",
              "width": 0.5
             },
             "pattern": {
              "fillmode": "overlay",
              "size": 10,
              "solidity": 0.2
             }
            },
            "type": "bar"
           }
          ],
          "barpolar": [
           {
            "marker": {
             "line": {
              "color": "#E5ECF6",
              "width": 0.5
             },
             "pattern": {
              "fillmode": "overlay",
              "size": 10,
              "solidity": 0.2
             }
            },
            "type": "barpolar"
           }
          ],
          "carpet": [
           {
            "aaxis": {
             "endlinecolor": "#2a3f5f",
             "gridcolor": "white",
             "linecolor": "white",
             "minorgridcolor": "white",
             "startlinecolor": "#2a3f5f"
            },
            "baxis": {
             "endlinecolor": "#2a3f5f",
             "gridcolor": "white",
             "linecolor": "white",
             "minorgridcolor": "white",
             "startlinecolor": "#2a3f5f"
            },
            "type": "carpet"
           }
          ],
          "choropleth": [
           {
            "colorbar": {
             "outlinewidth": 0,
             "ticks": ""
            },
            "type": "choropleth"
           }
          ],
          "contour": [
           {
            "colorbar": {
             "outlinewidth": 0,
             "ticks": ""
            },
            "colorscale": [
             [
              0,
              "#0d0887"
             ],
             [
              0.1111111111111111,
              "#46039f"
             ],
             [
              0.2222222222222222,
              "#7201a8"
             ],
             [
              0.3333333333333333,
              "#9c179e"
             ],
             [
              0.4444444444444444,
              "#bd3786"
             ],
             [
              0.5555555555555556,
              "#d8576b"
             ],
             [
              0.6666666666666666,
              "#ed7953"
             ],
             [
              0.7777777777777778,
              "#fb9f3a"
             ],
             [
              0.8888888888888888,
              "#fdca26"
             ],
             [
              1,
              "#f0f921"
             ]
            ],
            "type": "contour"
           }
          ],
          "contourcarpet": [
           {
            "colorbar": {
             "outlinewidth": 0,
             "ticks": ""
            },
            "type": "contourcarpet"
           }
          ],
          "heatmap": [
           {
            "colorbar": {
             "outlinewidth": 0,
             "ticks": ""
            },
            "colorscale": [
             [
              0,
              "#0d0887"
             ],
             [
              0.1111111111111111,
              "#46039f"
             ],
             [
              0.2222222222222222,
              "#7201a8"
             ],
             [
              0.3333333333333333,
              "#9c179e"
             ],
             [
              0.4444444444444444,
              "#bd3786"
             ],
             [
              0.5555555555555556,
              "#d8576b"
             ],
             [
              0.6666666666666666,
              "#ed7953"
             ],
             [
              0.7777777777777778,
              "#fb9f3a"
             ],
             [
              0.8888888888888888,
              "#fdca26"
             ],
             [
              1,
              "#f0f921"
             ]
            ],
            "type": "heatmap"
           }
          ],
          "histogram": [
           {
            "marker": {
             "pattern": {
              "fillmode": "overlay",
              "size": 10,
              "solidity": 0.2
             }
            },
            "type": "histogram"
           }
          ],
          "histogram2d": [
           {
            "colorbar": {
             "outlinewidth": 0,
             "ticks": ""
            },
            "colorscale": [
             [
              0,
              "#0d0887"
             ],
             [
              0.1111111111111111,
              "#46039f"
             ],
             [
              0.2222222222222222,
              "#7201a8"
             ],
             [
              0.3333333333333333,
              "#9c179e"
             ],
             [
              0.4444444444444444,
              "#bd3786"
             ],
             [
              0.5555555555555556,
              "#d8576b"
             ],
             [
              0.6666666666666666,
              "#ed7953"
             ],
             [
              0.7777777777777778,
              "#fb9f3a"
             ],
             [
              0.8888888888888888,
              "#fdca26"
             ],
             [
              1,
              "#f0f921"
             ]
            ],
            "type": "histogram2d"
           }
          ],
          "histogram2dcontour": [
           {
            "colorbar": {
             "outlinewidth": 0,
             "ticks": ""
            },
            "colorscale": [
             [
              0,
              "#0d0887"
             ],
             [
              0.1111111111111111,
              "#46039f"
             ],
             [
              0.2222222222222222,
              "#7201a8"
             ],
             [
              0.3333333333333333,
              "#9c179e"
             ],
             [
              0.4444444444444444,
              "#bd3786"
             ],
             [
              0.5555555555555556,
              "#d8576b"
             ],
             [
              0.6666666666666666,
              "#ed7953"
             ],
             [
              0.7777777777777778,
              "#fb9f3a"
             ],
             [
              0.8888888888888888,
              "#fdca26"
             ],
             [
              1,
              "#f0f921"
             ]
            ],
            "type": "histogram2dcontour"
           }
          ],
          "mesh3d": [
           {
            "colorbar": {
             "outlinewidth": 0,
             "ticks": ""
            },
            "type": "mesh3d"
           }
          ],
          "parcoords": [
           {
            "line": {
             "colorbar": {
              "outlinewidth": 0,
              "ticks": ""
             }
            },
            "type": "parcoords"
           }
          ],
          "pie": [
           {
            "automargin": true,
            "type": "pie"
           }
          ],
          "scatter": [
           {
            "fillpattern": {
             "fillmode": "overlay",
             "size": 10,
             "solidity": 0.2
            },
            "type": "scatter"
           }
          ],
          "scatter3d": [
           {
            "line": {
             "colorbar": {
              "outlinewidth": 0,
              "ticks": ""
             }
            },
            "marker": {
             "colorbar": {
              "outlinewidth": 0,
              "ticks": ""
             }
            },
            "type": "scatter3d"
           }
          ],
          "scattercarpet": [
           {
            "marker": {
             "colorbar": {
              "outlinewidth": 0,
              "ticks": ""
             }
            },
            "type": "scattercarpet"
           }
          ],
          "scattergeo": [
           {
            "marker": {
             "colorbar": {
              "outlinewidth": 0,
              "ticks": ""
             }
            },
            "type": "scattergeo"
           }
          ],
          "scattergl": [
           {
            "marker": {
             "colorbar": {
              "outlinewidth": 0,
              "ticks": ""
             }
            },
            "type": "scattergl"
           }
          ],
          "scattermap": [
           {
            "marker": {
             "colorbar": {
              "outlinewidth": 0,
              "ticks": ""
             }
            },
            "type": "scattermap"
           }
          ],
          "scattermapbox": [
           {
            "marker": {
             "colorbar": {
              "outlinewidth": 0,
              "ticks": ""
             }
            },
            "type": "scattermapbox"
           }
          ],
          "scatterpolar": [
           {
            "marker": {
             "colorbar": {
              "outlinewidth": 0,
              "ticks": ""
             }
            },
            "type": "scatterpolar"
           }
          ],
          "scatterpolargl": [
           {
            "marker": {
             "colorbar": {
              "outlinewidth": 0,
              "ticks": ""
             }
            },
            "type": "scatterpolargl"
           }
          ],
          "scatterternary": [
           {
            "marker": {
             "colorbar": {
              "outlinewidth": 0,
              "ticks": ""
             }
            },
            "type": "scatterternary"
           }
          ],
          "surface": [
           {
            "colorbar": {
             "outlinewidth": 0,
             "ticks": ""
            },
            "colorscale": [
             [
              0,
              "#0d0887"
             ],
             [
              0.1111111111111111,
              "#46039f"
             ],
             [
              0.2222222222222222,
              "#7201a8"
             ],
             [
              0.3333333333333333,
              "#9c179e"
             ],
             [
              0.4444444444444444,
              "#bd3786"
             ],
             [
              0.5555555555555556,
              "#d8576b"
             ],
             [
              0.6666666666666666,
              "#ed7953"
             ],
             [
              0.7777777777777778,
              "#fb9f3a"
             ],
             [
              0.8888888888888888,
              "#fdca26"
             ],
             [
              1,
              "#f0f921"
             ]
            ],
            "type": "surface"
           }
          ],
          "table": [
           {
            "cells": {
             "fill": {
              "color": "#EBF0F8"
             },
             "line": {
              "color": "white"
             }
            },
            "header": {
             "fill": {
              "color": "#C8D4E3"
             },
             "line": {
              "color": "white"
             }
            },
            "type": "table"
           }
          ]
         },
         "layout": {
          "annotationdefaults": {
           "arrowcolor": "#2a3f5f",
           "arrowhead": 0,
           "arrowwidth": 1
          },
          "autotypenumbers": "strict",
          "coloraxis": {
           "colorbar": {
            "outlinewidth": 0,
            "ticks": ""
           }
          },
          "colorscale": {
           "diverging": [
            [
             0,
             "#8e0152"
            ],
            [
             0.1,
             "#c51b7d"
            ],
            [
             0.2,
             "#de77ae"
            ],
            [
             0.3,
             "#f1b6da"
            ],
            [
             0.4,
             "#fde0ef"
            ],
            [
             0.5,
             "#f7f7f7"
            ],
            [
             0.6,
             "#e6f5d0"
            ],
            [
             0.7,
             "#b8e186"
            ],
            [
             0.8,
             "#7fbc41"
            ],
            [
             0.9,
             "#4d9221"
            ],
            [
             1,
             "#276419"
            ]
           ],
           "sequential": [
            [
             0,
             "#0d0887"
            ],
            [
             0.1111111111111111,
             "#46039f"
            ],
            [
             0.2222222222222222,
             "#7201a8"
            ],
            [
             0.3333333333333333,
             "#9c179e"
            ],
            [
             0.4444444444444444,
             "#bd3786"
            ],
            [
             0.5555555555555556,
             "#d8576b"
            ],
            [
             0.6666666666666666,
             "#ed7953"
            ],
            [
             0.7777777777777778,
             "#fb9f3a"
            ],
            [
             0.8888888888888888,
             "#fdca26"
            ],
            [
             1,
             "#f0f921"
            ]
           ],
           "sequentialminus": [
            [
             0,
             "#0d0887"
            ],
            [
             0.1111111111111111,
             "#46039f"
            ],
            [
             0.2222222222222222,
             "#7201a8"
            ],
            [
             0.3333333333333333,
             "#9c179e"
            ],
            [
             0.4444444444444444,
             "#bd3786"
            ],
            [
             0.5555555555555556,
             "#d8576b"
            ],
            [
             0.6666666666666666,
             "#ed7953"
            ],
            [
             0.7777777777777778,
             "#fb9f3a"
            ],
            [
             0.8888888888888888,
             "#fdca26"
            ],
            [
             1,
             "#f0f921"
            ]
           ]
          },
          "colorway": [
           "#636efa",
           "#EF553B",
           "#00cc96",
           "#ab63fa",
           "#FFA15A",
           "#19d3f3",
           "#FF6692",
           "#B6E880",
           "#FF97FF",
           "#FECB52"
          ],
          "font": {
           "color": "#2a3f5f"
          },
          "geo": {
           "bgcolor": "white",
           "lakecolor": "white",
           "landcolor": "#E5ECF6",
           "showlakes": true,
           "showland": true,
           "subunitcolor": "white"
          },
          "hoverlabel": {
           "align": "left"
          },
          "hovermode": "closest",
          "mapbox": {
           "style": "light"
          },
          "paper_bgcolor": "white",
          "plot_bgcolor": "#E5ECF6",
          "polar": {
           "angularaxis": {
            "gridcolor": "white",
            "linecolor": "white",
            "ticks": ""
           },
           "bgcolor": "#E5ECF6",
           "radialaxis": {
            "gridcolor": "white",
            "linecolor": "white",
            "ticks": ""
           }
          },
          "scene": {
           "xaxis": {
            "backgroundcolor": "#E5ECF6",
            "gridcolor": "white",
            "gridwidth": 2,
            "linecolor": "white",
            "showbackground": true,
            "ticks": "",
            "zerolinecolor": "white"
           },
           "yaxis": {
            "backgroundcolor": "#E5ECF6",
            "gridcolor": "white",
            "gridwidth": 2,
            "linecolor": "white",
            "showbackground": true,
            "ticks": "",
            "zerolinecolor": "white"
           },
           "zaxis": {
            "backgroundcolor": "#E5ECF6",
            "gridcolor": "white",
            "gridwidth": 2,
            "linecolor": "white",
            "showbackground": true,
            "ticks": "",
            "zerolinecolor": "white"
           }
          },
          "shapedefaults": {
           "line": {
            "color": "#2a3f5f"
           }
          },
          "ternary": {
           "aaxis": {
            "gridcolor": "white",
            "linecolor": "white",
            "ticks": ""
           },
           "baxis": {
            "gridcolor": "white",
            "linecolor": "white",
            "ticks": ""
           },
           "bgcolor": "#E5ECF6",
           "caxis": {
            "gridcolor": "white",
            "linecolor": "white",
            "ticks": ""
           }
          },
          "title": {
           "x": 0.05
          },
          "xaxis": {
           "automargin": true,
           "gridcolor": "white",
           "linecolor": "white",
           "ticks": "",
           "title": {
            "standoff": 15
           },
           "zerolinecolor": "white",
           "zerolinewidth": 2
          },
          "yaxis": {
           "automargin": true,
           "gridcolor": "white",
           "linecolor": "white",
           "ticks": "",
           "title": {
            "standoff": 15
           },
           "zerolinecolor": "white",
           "zerolinewidth": 2
          }
         }
        },
        "title": {
         "text": "Mean and Median life expectancy for all continents"
        },
        "xaxis": {
         "anchor": "y",
         "domain": [
          0,
          1
         ],
         "title": {
          "text": "Year"
         }
        },
        "yaxis": {
         "anchor": "x",
         "domain": [
          0,
          1
         ],
         "title": {
          "text": "value"
         }
        }
       }
      }
     },
     "metadata": {},
     "output_type": "display_data"
    }
   ],
   "source": [
    "# Mean and Median life expectancy for all continents\n",
    "continents = ['Asia','Africa','Europe','Oceania','Northern America','Latin America and the Caribbean']\n",
    "df_filtered = df_life_exp[df_life_exp['Entity'].isin(continents) & (df_life_exp[\"Year\"] > 1850)]\n",
    "grouped_life_exp = df_filtered.groupby(df_filtered['Year']).agg(\n",
    "    Mean = ('Period life expectancy at birth - Sex: total - Age: 0', 'mean'),\n",
    "    Median = ('Period life expectancy at birth - Sex: total - Age: 0', 'median')\n",
    ").reset_index()\n",
    "\n",
    "fig = px.line(grouped_life_exp, x='Year', y=['Mean','Median'], title='Mean and Median life expectancy for all continents') \n",
    "fig.show()"
   ]
  },
  {
   "cell_type": "markdown",
   "metadata": {},
   "source": [
    "##### Not sure how to show the standerad deviation. Is it even necessary???"
   ]
  },
  {
   "cell_type": "markdown",
   "metadata": {},
   "source": [
    "#### Identify top and bottom countries/regions based on life expectancy."
   ]
  },
  {
   "cell_type": "code",
   "execution_count": null,
   "metadata": {},
   "outputs": [],
   "source": []
  },
  {
   "cell_type": "markdown",
   "metadata": {},
   "source": [
    "### 4. Comparative Analysis by Region & Income Group\n",
    "#### By continent\n",
    "\n",
    "**Compare life expectancy trends across continents.**"
   ]
  },
  {
   "cell_type": "code",
   "execution_count": 10,
   "metadata": {},
   "outputs": [
    {
     "data": {
      "application/vnd.plotly.v1+json": {
       "config": {
        "plotlyServerURL": "https://plot.ly"
       },
       "data": [
        {
         "hovertemplate": "Entity=Africa<br>Year=%{x}<br>Period life expectancy at birth - Sex: total - Age: 0=%{y}<extra></extra>",
         "legendgroup": "Africa",
         "line": {
          "color": "#636efa",
          "dash": "solid"
         },
         "marker": {
          "symbol": "circle"
         },
         "mode": "lines",
         "name": "Africa",
         "orientation": "v",
         "showlegend": true,
         "type": "scatter",
         "x": {
          "bdata": "hQeeB58HoAehB6IHowekB6UHpgenB6gHqQeqB6sHrAetB64HrwewB7EHsgezB7QHtQe2B7cHuAe5B7oHuwe8B70Hvge/B8AHwQfCB8MHxAfFB8YHxwfIB8kHygfLB8wHzQfOB88H0AfRB9IH0wfUB9UH1gfXB9gH2QfaB9sH3AfdB94H3wfgB+EH4gfjB+QH5QfmB+cH",
          "dtype": "i2"
         },
         "xaxis": "x",
         "y": {
          "bdata": "ZmZmZmZmOkCBlUOLbJ9CQJeQD3o240JA48eYu5YgQ0C9UpYhjl1DQJeQD3o2i0NAS+oENBHGQ0B3LSEf9PxDQIQNT6+U7UNAEFg5tMgeREBGtvP91JhEQAn5oGezskRAiGNd3EbjREAOT6+UZSBFQKRwPQrXW0VAJJf/kH6LRUChZ7Pqc61FQN5xio7kukVAumsJ+aDfRUDxY8xdSyBGQPAWSFD8QEZALpCg+DF+RkDQ1VbsL7NGQIlBYOXQukZAsHJoke0MR0AUP8bctTRHQJ7vp8ZLZ0dAWKg1zTvGR0DaG3xhMgVIQMnlP6TfNkhAtTf4wmR6SEC/fR04Z7RIQEXY8PRK6UhATx4Wak0bSUBnRGlv8MVIQOY/pN++3khA4umVsgwRSUClTkATYUtJQKpgVFInmElAgSbChqeHSUAYldQJaNpJQNxGA3gL1ElAgQTFjzG/SUCtad5xirZJQHxhMlUw6klAiUFg5dD6SEAHzhlR2itKQB04Z0RpL0pAbVZ9rrZKSkCJ0t7gCzNKQKvP1Vbsh0pATDeJQWDVSkBU46WbxABLQHxhMlUwMktAJCh+jLlrS0DOiNLe4KtLQHicoiO57EtAwaikTkA7TEAKaCJseIpMQHe+nxov1UxAnDOitDfgTEDtDb4wmWJNQLRZ9bnaek1ASS7/If3mTUBDHOviNiJOQD/G3LWEPE5ATtGRXP5rTkDtDb4wmZpOQG8Sg8DKwU5A2qz6XG0VT0C28/3UeDlPQP5D+u3rIE9ATYQNT6/kTkDn+6nx0nVPQM6I0t7g609A",
          "dtype": "f8"
         },
         "yaxis": "y"
        },
        {
         "hovertemplate": "Entity=Asia<br>Year=%{x}<br>Period life expectancy at birth - Sex: total - Age: 0=%{y}<extra></extra>",
         "legendgroup": "Asia",
         "line": {
          "color": "#EF553B",
          "dash": "solid"
         },
         "marker": {
          "symbol": "circle"
         },
         "mode": "lines",
         "name": "Asia",
         "orientation": "v",
         "showlegend": true,
         "type": "scatter",
         "x": {
          "bdata": "XQdsB3kHngefB6AHoQeiB6MHpAelB6YHpweoB6kHqgerB6wHrQeuB68HsAexB7IHswe0B7UHtge3B7gHuQe6B7sHvAe9B74HvwfAB8EHwgfDB8QHxQfGB8cHyAfJB8oHywfMB80HzgfPB9AH0QfSB9MH1AfVB9YH1wfYB9kH2gfbB9wH3QfeB98H4AfhB+IH4wfkB+UH5gfnBw==",
          "dtype": "i2"
         },
         "xaxis": "x",
         "y": {
          "bdata": "AAAAAACAO0AAAAAAAAA8QJqZmZmZGTxA30+Nl276REBtVn2utnpFQC1DHOviHkZAumsJ+aBvRkB6Nqs+V+tGQJ7vp8ZLN0dAR3L5D+l3R0AAb4EExbdHQCPb+X5q9EdA9bnaiv1FRkA9CtejcOVEQKK0N/jCnEZA/Knx0k3aSEAwKqkT0DRJQC6QoPgxhklAz/dT46VTSUCMuWsJ+cBJQL4wmSoYHUpASFD8GHOPSkBHA3gLJOBKQKMjufyHBEtAOdbFbTS4SkBU46WbxKhLQNiBc0aU9ktAqoJRSZ0wTED1udqK/U1MQFpkO99PdUxAcoqO5PLPTEAtIR/0bA5NQCv2l92Tf01AXdxGA3i7TUAzMzMzM/tNQF1txf6yO05Af/s6cM54TkDAWyBB8bNOQEtZhjjW7U5ARrbz/dQwT0CwA+eMKG1PQDSitDf4mk9Ao5I6AU3UT0AIrBxaZPtPQFD8GHPXDlBA7zhFR3ItUEA3iUFg5URQQBNhw9MrWVBAseHplbJsUED1SlmGOIZQQFOWIY51nVBAuK8D54y0UEACmggbnspQQGaIY13c5lBAVg4tsp3/UECoV8oyxBlRQMl2vp8aM1FAS+oENBFCUUArhxbZzl9RQFJJnYAmelFAiGNd3EaTUUArGJXUCaBRQM07TtGRwFFAKqkT0ETYUUBPQBNhw+tRQKabxCCwAlJAl/+QfvsWUkCwA+eMKC1SQJm7lpAPPlJAjNtoAG9RUkDBOSNKe19SQHS1FfvLclJA+1xtxf6CUkDXEvJBz2ZSQABvgQTFF1JApU5AE2GbUkAAkX77OqRSQA==",
          "dtype": "f8"
         },
         "yaxis": "y"
        },
        {
         "hovertemplate": "Entity=Europe<br>Year=%{x}<br>Period life expectancy at birth - Sex: total - Age: 0=%{y}<extra></extra>",
         "legendgroup": "Europe",
         "line": {
          "color": "#00cc96",
          "dash": "solid"
         },
         "marker": {
          "symbol": "circle"
         },
         "mode": "lines",
         "name": "Europe",
         "orientation": "v",
         "showlegend": true,
         "type": "scatter",
         "x": {
          "bdata": "TgdsB3kHngefB6AHoQeiB6MHpAelB6YHpweoB6kHqgerB6wHrQeuB68HsAexB7IHswe0B7UHtge3B7gHuQe6B7sHvAe9B74HvwfAB8EHwgfDB8QHxQfGB8cHyAfJB8oHywfMB80HzgfPB9AH0QfSB9MH1AfVB9YH1wfYB9kH2gfbB9wH3QfeB98H4AfhB+IH4wfkB+UH5gfnBw==",
          "dtype": "i2"
         },
         "xaxis": "x",
         "y": {
          "bdata": "mpmZmZkZQkCamZmZmVlFQGZmZmZmZkdAF7fRAN76TkA2zTtO0fFOQD9XW7G/pE9ArK3YX3YDUEC5jQbwFjhQQGgibHh6aVBAl5APejazUEC0WfW52r5QQINRSZ2AAlFAcT0K16MQUUA2PL1Sli1RQG3n+6nxSlFA2ht8YTJJUUDFjzF3LVlRQGFUUieggVFAAwmKH2OCUUDsL7snD49RQLG/7J48lFFA9pfdk4eJUUAp7Q2+MH1RQPyp8dJNklFAtRX7y+6dUUAdWmQ736tRQIEExY8xs1FAhXzQs1m9UUArhxbZzrdRQFpkO99PvVFAA3gLJCjKUUDVeOkmMcxRQGdEaW/w0VFAJ6CJsOHVUUDQ1VbsL+NRQLn8h/Tb91FAMlUwKqn3UUD4U+OlmwBSQJEPejarDlJAYTJVMCo1UkCF61G4HkVSQGDl0CLbSVJAzF1LyAdNUkCkcD0K10dSQERpb/CFRVJAW0I+6NkwUkClLEMc6wZSQApoImx4AlJAVg4tsp0LUkB6Nqs+Vy9SQMl2vp8aU1JA7FG4HoVjUkAj2/l+alRSQNzXgXNGXFJAHcnlP6RnUkDcRgN4C2hSQBB6Nqs+a1JAIbByaJGJUkDY8PRKWZJSQISezarPuVJAD5wzorTTUkBJLv8h/eZSQBb7y+7JA1NAKVyPwvUMU0BdbcX+sjdTQA4tsp3vQ1NAJ8KGp1daU0D67evAOWtTQGiz6nO1cVNA9P3UeOmKU0BEaW/whZ1TQCBB8WPMoVNAGw3gLZCwU0BSJ6CJsGlTQOcdp+hIQlNAqz5XW7GLU0B5WKg1zcNTQA==",
          "dtype": "f8"
         },
         "yaxis": "y"
        },
        {
         "hovertemplate": "Entity=Latin America and the Caribbean<br>Year=%{x}<br>Period life expectancy at birth - Sex: total - Age: 0=%{y}<extra></extra>",
         "legendgroup": "Latin America and the Caribbean",
         "line": {
          "color": "#ab63fa",
          "dash": "solid"
         },
         "marker": {
          "symbol": "circle"
         },
         "mode": "lines",
         "name": "Latin America and the Caribbean",
         "orientation": "v",
         "showlegend": true,
         "type": "scatter",
         "x": {
          "bdata": "ngefB6AHoQeiB6MHpAelB6YHpweoB6kHqgerB6wHrQeuB68HsAexB7IHswe0B7UHtge3B7gHuQe6B7sHvAe9B74HvwfAB8EHwgfDB8QHxQfGB8cHyAfJB8oHywfMB80HzgfPB9AH0QfSB9MH1AfVB9YH1wfYB9kH2gfbB9wH3QfeB98H4AfhB+IH4wfkB+UH5gfnBw==",
          "dtype": "i2"
         },
         "xaxis": "x",
         "y": {
          "bdata": "c9cS8kFXSECIY13cRqNIQPW52or99UhA4lgXt9FISUAVHcnlP5xJQDEIrBxa5ElA1CtlGeIwSkASFD/G3HVKQBIUP8bcxUpABcWPMXcNS0AOvjCZKlhLQCQofoy5m0tA6Ugu/yHVS0DQs1n1uQpMQNuK/WX3RExAnl4pyxB/TEDi6ZWyDMFMQBHHuriN9kxA8WPMXUsgTUCh+DHmrkVNQGiz6nO1RU1AqaROQBO5TUC8lpAPeu5NQHqlLEMcK05AObTIdr5fTkAtQxzr4qZOQBTQRNjwzE5AhetRuB4dT0CM22gAb1FPQE7RkVz+e09ATDeJQWClT0AibHh6pdxPQPLSTWIQAFBA+8vuycMmUECWsgxxrD9QQPJBz2bVT1BA4umVsgx5UEDF/rJ78pBQQDbNO07RqVBA9wZfmEzBUED67evAOddQQJSHhVrT7FBANKK0N/j+UEBiEFg5tBRRQO5aQj7oLVFAdCSX/5BGUUABTYQNT19RQAU0ETY8eVFAoyO5/IeEUUBPr5RliJ9RQFUwKqkTtFFA0ETY8PTGUUBoke18P+FRQJM6AU2E9VFAfGEyVTAKUkC8lpAPeiJSQCNKe4MvNFJAYOXQIttBUkDOGVHaG1BSQFTjpZvEXFJAEqW9wRdOUkDqlbIMcXxSQGTMXUvIi1JAoBov3SSaUkCmCkYldaZSQHS1FfvLslJAb4EExY+tUkCHFtnO97dSQLsnDwu1xlJA+MJkqmDQUkA2qz5XW1FSQFvTvOMU9VFAmEwVjEqqUkDHSzeJQexSQA==",
          "dtype": "f8"
         },
         "yaxis": "y"
        },
        {
         "hovertemplate": "Entity=Northern America<br>Year=%{x}<br>Period life expectancy at birth - Sex: total - Age: 0=%{y}<extra></extra>",
         "legendgroup": "Northern America",
         "line": {
          "color": "#FFA15A",
          "dash": "solid"
         },
         "marker": {
          "symbol": "circle"
         },
         "mode": "lines",
         "name": "Northern America",
         "orientation": "v",
         "showlegend": true,
         "type": "scatter",
         "x": {
          "bdata": "ngefB6AHoQeiB6MHpAelB6YHpweoB6kHqgerB6wHrQeuB68HsAexB7IHswe0B7UHtge3B7gHuQe6B7sHvAe9B74HvwfAB8EHwgfDB8QHxQfGB8cHyAfJB8oHywfMB80HzgfPB9AH0QfSB9MH1AfVB9YH1wfYB9kH2gfbB9wH3QfeB98H4AfhB+IH4wfkB+UH5gfnBw==",
          "dtype": "i2"
         },
         "xaxis": "x",
         "y": {
          "bdata": "K/aX3ZMDUUB6xyk6kgtRQD/G3LWEGFFANV66SQwuUUDpSC7/IWFRQIZa07zjZFFA/Yf029dpUUA4Z0Rpb1xRQInS3uALb1FABaOSOgF9UUD7OnDOiHpRQFtCPujZlFFAaW/whcmMUUBQ/Bhz14JRQI51cRsNlFFASOF6FK6XUUAE54wo7ZVRQCEf9GxWqVFAM8SxLm6XUUBGJXUCmqhRQBTQRNjwuFFAwOyePCzQUUB4eqUsQ9RRQDSAt0CC4lFAOUVHcvkDUkBHcvkP6SdSQNXnaiv2O1JAj+TyH9JTUkBVwaikTmBSQDsBTYQNe1JA/Knx0k12UkCe76fGS49SQHDOiNLepFJAowG8BRKsUkDpt68D57RSQKyt2F92s1JA8BZIUPy4UkBR2ht8YcJSQL7BFyZTwVJAdEaU9gbTUkBxrIvbaORSQC6QoPgx7lJArWnecYr+UkBvgQTFj/FSQDGZKhiV/FJAJLn8h/QDU0Bcj8L1KBhTQFUwKqkTLFNAe4MvTKY2U0CGONbFbThTQNjw9EpZQlNA7nw/NV5KU0DJdr6fGk9TQBueXinLWFNAGeJYF7dxU0CZKhiV1HFTQCsYldQJhFNAUWuad5ySU0A4Z0Rpb5hTQEmdgCbCrlNApN++Dpy7U0D0bFZ9rr5TQEoMAiuHxlNA845TdCTHU0CeXinLEMtTQGZmZmZmwlNARUdy+Q/BU0BKe4MvTL5TQNDVVuwvx1NADr4wmSrQU0AhsHJokV1TQCV1ApoIO1NAnRGlvcGTU0CppE5AE+lTQA==",
          "dtype": "f8"
         },
         "yaxis": "y"
        },
        {
         "hovertemplate": "Entity=Oceania<br>Year=%{x}<br>Period life expectancy at birth - Sex: total - Age: 0=%{y}<extra></extra>",
         "legendgroup": "Oceania",
         "line": {
          "color": "#19d3f3",
          "dash": "solid"
         },
         "marker": {
          "symbol": "circle"
         },
         "mode": "lines",
         "name": "Oceania",
         "orientation": "v",
         "showlegend": true,
         "type": "scatter",
         "x": {
          "bdata": "TgdsB3kHngefB6AHoQeiB6MHpAelB6YHpweoB6kHqgerB6wHrQeuB68HsAexB7IHswe0B7UHtge3B7gHuQe6B7sHvAe9B74HvwfAB8EHwgfDB8QHxQfGB8cHyAfJB8oHywfMB80HzgfPB9AH0QfSB9MH1AfVB9YH1wfYB9kH2gfbB9wH3QfeB98H4AfhB+IH4wfkB+UH5gfnBw==",
          "dtype": "i2"
         },
         "xaxis": "x",
         "y": {
          "bdata": "mpmZmZlZQUDNzMzMzMxHQAAAAAAAgElAVg4tsp3HTkDwFkhQ/DhOQH/7OnDOEE9A3GgAb4FkT0DT3uALk4lPQCxlGeJYv09AZohjXdzOT0CdEaW9wf9PQGx4eqUsJ1BAdk8eFmohUEAtIR/0bEJQQPH0SlmGWFBA7Z48LNRWUEAxCKwcWmhQQHbgnBGlXVBAtaZ5xylyUEC5/If023NQQGx4eqUsk1BA6Nms+lyNUEAwTKYKRq1QQL4wmSoYpVBAd76fGi/ZUEAOLbKd7+9QQCbkg57N/lBAeJyiI7kAUUCu2F92Ty5RQLx0kxgENlFAbAn5oGdXUUCF61G4HnFRQGFUUiegjVFAApoIG56aUUCneccpOrJRQAXFjzF3tVFA78nDQq3ZUUCh+DHmruVRQEJg5dAi41FAA3gLJCgCUkCzDHGsiwdSQMUgsHJoGVJAQfFjzF0bUkC6awn5oEdSQLG/7J48YFJATtGRXP5jUkDHSzeJQXxSQLUV+8vueVJAGJXUCWiKUkCTOgFNhI1SQOhqK/aXnVJAqz5XW7GjUkDcRgN4C7xSQF8HzhlRzlJA+8vuycPaUkALtaZ5x9lSQCqpE9BE7FJAGlHaG3z5UkBeukkMAg9TQILix5i7FlNAZ0Rpb/AZU0AqqRPQRChTQJOpglFJOVNA3+ALk6lOU0CrPldbsVNTQNejcD0KX1NAQj7o2axyU0A1XrpJDHJTQDMzMzMze1NAmEwVjEqKU0BHA3gLJIhTQPXb14FzolNA3NeBc0akU0DufD81XrZTQP5D+u3rnFNAKxiV1AmEU0CaCBueXslTQA==",
          "dtype": "f8"
         },
         "yaxis": "y"
        }
       ],
       "layout": {
        "legend": {
         "title": {
          "text": "Entity"
         },
         "tracegroupgap": 0
        },
        "margin": {
         "t": 60
        },
        "template": {
         "data": {
          "bar": [
           {
            "error_x": {
             "color": "#2a3f5f"
            },
            "error_y": {
             "color": "#2a3f5f"
            },
            "marker": {
             "line": {
              "color": "#E5ECF6",
              "width": 0.5
             },
             "pattern": {
              "fillmode": "overlay",
              "size": 10,
              "solidity": 0.2
             }
            },
            "type": "bar"
           }
          ],
          "barpolar": [
           {
            "marker": {
             "line": {
              "color": "#E5ECF6",
              "width": 0.5
             },
             "pattern": {
              "fillmode": "overlay",
              "size": 10,
              "solidity": 0.2
             }
            },
            "type": "barpolar"
           }
          ],
          "carpet": [
           {
            "aaxis": {
             "endlinecolor": "#2a3f5f",
             "gridcolor": "white",
             "linecolor": "white",
             "minorgridcolor": "white",
             "startlinecolor": "#2a3f5f"
            },
            "baxis": {
             "endlinecolor": "#2a3f5f",
             "gridcolor": "white",
             "linecolor": "white",
             "minorgridcolor": "white",
             "startlinecolor": "#2a3f5f"
            },
            "type": "carpet"
           }
          ],
          "choropleth": [
           {
            "colorbar": {
             "outlinewidth": 0,
             "ticks": ""
            },
            "type": "choropleth"
           }
          ],
          "contour": [
           {
            "colorbar": {
             "outlinewidth": 0,
             "ticks": ""
            },
            "colorscale": [
             [
              0,
              "#0d0887"
             ],
             [
              0.1111111111111111,
              "#46039f"
             ],
             [
              0.2222222222222222,
              "#7201a8"
             ],
             [
              0.3333333333333333,
              "#9c179e"
             ],
             [
              0.4444444444444444,
              "#bd3786"
             ],
             [
              0.5555555555555556,
              "#d8576b"
             ],
             [
              0.6666666666666666,
              "#ed7953"
             ],
             [
              0.7777777777777778,
              "#fb9f3a"
             ],
             [
              0.8888888888888888,
              "#fdca26"
             ],
             [
              1,
              "#f0f921"
             ]
            ],
            "type": "contour"
           }
          ],
          "contourcarpet": [
           {
            "colorbar": {
             "outlinewidth": 0,
             "ticks": ""
            },
            "type": "contourcarpet"
           }
          ],
          "heatmap": [
           {
            "colorbar": {
             "outlinewidth": 0,
             "ticks": ""
            },
            "colorscale": [
             [
              0,
              "#0d0887"
             ],
             [
              0.1111111111111111,
              "#46039f"
             ],
             [
              0.2222222222222222,
              "#7201a8"
             ],
             [
              0.3333333333333333,
              "#9c179e"
             ],
             [
              0.4444444444444444,
              "#bd3786"
             ],
             [
              0.5555555555555556,
              "#d8576b"
             ],
             [
              0.6666666666666666,
              "#ed7953"
             ],
             [
              0.7777777777777778,
              "#fb9f3a"
             ],
             [
              0.8888888888888888,
              "#fdca26"
             ],
             [
              1,
              "#f0f921"
             ]
            ],
            "type": "heatmap"
           }
          ],
          "histogram": [
           {
            "marker": {
             "pattern": {
              "fillmode": "overlay",
              "size": 10,
              "solidity": 0.2
             }
            },
            "type": "histogram"
           }
          ],
          "histogram2d": [
           {
            "colorbar": {
             "outlinewidth": 0,
             "ticks": ""
            },
            "colorscale": [
             [
              0,
              "#0d0887"
             ],
             [
              0.1111111111111111,
              "#46039f"
             ],
             [
              0.2222222222222222,
              "#7201a8"
             ],
             [
              0.3333333333333333,
              "#9c179e"
             ],
             [
              0.4444444444444444,
              "#bd3786"
             ],
             [
              0.5555555555555556,
              "#d8576b"
             ],
             [
              0.6666666666666666,
              "#ed7953"
             ],
             [
              0.7777777777777778,
              "#fb9f3a"
             ],
             [
              0.8888888888888888,
              "#fdca26"
             ],
             [
              1,
              "#f0f921"
             ]
            ],
            "type": "histogram2d"
           }
          ],
          "histogram2dcontour": [
           {
            "colorbar": {
             "outlinewidth": 0,
             "ticks": ""
            },
            "colorscale": [
             [
              0,
              "#0d0887"
             ],
             [
              0.1111111111111111,
              "#46039f"
             ],
             [
              0.2222222222222222,
              "#7201a8"
             ],
             [
              0.3333333333333333,
              "#9c179e"
             ],
             [
              0.4444444444444444,
              "#bd3786"
             ],
             [
              0.5555555555555556,
              "#d8576b"
             ],
             [
              0.6666666666666666,
              "#ed7953"
             ],
             [
              0.7777777777777778,
              "#fb9f3a"
             ],
             [
              0.8888888888888888,
              "#fdca26"
             ],
             [
              1,
              "#f0f921"
             ]
            ],
            "type": "histogram2dcontour"
           }
          ],
          "mesh3d": [
           {
            "colorbar": {
             "outlinewidth": 0,
             "ticks": ""
            },
            "type": "mesh3d"
           }
          ],
          "parcoords": [
           {
            "line": {
             "colorbar": {
              "outlinewidth": 0,
              "ticks": ""
             }
            },
            "type": "parcoords"
           }
          ],
          "pie": [
           {
            "automargin": true,
            "type": "pie"
           }
          ],
          "scatter": [
           {
            "fillpattern": {
             "fillmode": "overlay",
             "size": 10,
             "solidity": 0.2
            },
            "type": "scatter"
           }
          ],
          "scatter3d": [
           {
            "line": {
             "colorbar": {
              "outlinewidth": 0,
              "ticks": ""
             }
            },
            "marker": {
             "colorbar": {
              "outlinewidth": 0,
              "ticks": ""
             }
            },
            "type": "scatter3d"
           }
          ],
          "scattercarpet": [
           {
            "marker": {
             "colorbar": {
              "outlinewidth": 0,
              "ticks": ""
             }
            },
            "type": "scattercarpet"
           }
          ],
          "scattergeo": [
           {
            "marker": {
             "colorbar": {
              "outlinewidth": 0,
              "ticks": ""
             }
            },
            "type": "scattergeo"
           }
          ],
          "scattergl": [
           {
            "marker": {
             "colorbar": {
              "outlinewidth": 0,
              "ticks": ""
             }
            },
            "type": "scattergl"
           }
          ],
          "scattermap": [
           {
            "marker": {
             "colorbar": {
              "outlinewidth": 0,
              "ticks": ""
             }
            },
            "type": "scattermap"
           }
          ],
          "scattermapbox": [
           {
            "marker": {
             "colorbar": {
              "outlinewidth": 0,
              "ticks": ""
             }
            },
            "type": "scattermapbox"
           }
          ],
          "scatterpolar": [
           {
            "marker": {
             "colorbar": {
              "outlinewidth": 0,
              "ticks": ""
             }
            },
            "type": "scatterpolar"
           }
          ],
          "scatterpolargl": [
           {
            "marker": {
             "colorbar": {
              "outlinewidth": 0,
              "ticks": ""
             }
            },
            "type": "scatterpolargl"
           }
          ],
          "scatterternary": [
           {
            "marker": {
             "colorbar": {
              "outlinewidth": 0,
              "ticks": ""
             }
            },
            "type": "scatterternary"
           }
          ],
          "surface": [
           {
            "colorbar": {
             "outlinewidth": 0,
             "ticks": ""
            },
            "colorscale": [
             [
              0,
              "#0d0887"
             ],
             [
              0.1111111111111111,
              "#46039f"
             ],
             [
              0.2222222222222222,
              "#7201a8"
             ],
             [
              0.3333333333333333,
              "#9c179e"
             ],
             [
              0.4444444444444444,
              "#bd3786"
             ],
             [
              0.5555555555555556,
              "#d8576b"
             ],
             [
              0.6666666666666666,
              "#ed7953"
             ],
             [
              0.7777777777777778,
              "#fb9f3a"
             ],
             [
              0.8888888888888888,
              "#fdca26"
             ],
             [
              1,
              "#f0f921"
             ]
            ],
            "type": "surface"
           }
          ],
          "table": [
           {
            "cells": {
             "fill": {
              "color": "#EBF0F8"
             },
             "line": {
              "color": "white"
             }
            },
            "header": {
             "fill": {
              "color": "#C8D4E3"
             },
             "line": {
              "color": "white"
             }
            },
            "type": "table"
           }
          ]
         },
         "layout": {
          "annotationdefaults": {
           "arrowcolor": "#2a3f5f",
           "arrowhead": 0,
           "arrowwidth": 1
          },
          "autotypenumbers": "strict",
          "coloraxis": {
           "colorbar": {
            "outlinewidth": 0,
            "ticks": ""
           }
          },
          "colorscale": {
           "diverging": [
            [
             0,
             "#8e0152"
            ],
            [
             0.1,
             "#c51b7d"
            ],
            [
             0.2,
             "#de77ae"
            ],
            [
             0.3,
             "#f1b6da"
            ],
            [
             0.4,
             "#fde0ef"
            ],
            [
             0.5,
             "#f7f7f7"
            ],
            [
             0.6,
             "#e6f5d0"
            ],
            [
             0.7,
             "#b8e186"
            ],
            [
             0.8,
             "#7fbc41"
            ],
            [
             0.9,
             "#4d9221"
            ],
            [
             1,
             "#276419"
            ]
           ],
           "sequential": [
            [
             0,
             "#0d0887"
            ],
            [
             0.1111111111111111,
             "#46039f"
            ],
            [
             0.2222222222222222,
             "#7201a8"
            ],
            [
             0.3333333333333333,
             "#9c179e"
            ],
            [
             0.4444444444444444,
             "#bd3786"
            ],
            [
             0.5555555555555556,
             "#d8576b"
            ],
            [
             0.6666666666666666,
             "#ed7953"
            ],
            [
             0.7777777777777778,
             "#fb9f3a"
            ],
            [
             0.8888888888888888,
             "#fdca26"
            ],
            [
             1,
             "#f0f921"
            ]
           ],
           "sequentialminus": [
            [
             0,
             "#0d0887"
            ],
            [
             0.1111111111111111,
             "#46039f"
            ],
            [
             0.2222222222222222,
             "#7201a8"
            ],
            [
             0.3333333333333333,
             "#9c179e"
            ],
            [
             0.4444444444444444,
             "#bd3786"
            ],
            [
             0.5555555555555556,
             "#d8576b"
            ],
            [
             0.6666666666666666,
             "#ed7953"
            ],
            [
             0.7777777777777778,
             "#fb9f3a"
            ],
            [
             0.8888888888888888,
             "#fdca26"
            ],
            [
             1,
             "#f0f921"
            ]
           ]
          },
          "colorway": [
           "#636efa",
           "#EF553B",
           "#00cc96",
           "#ab63fa",
           "#FFA15A",
           "#19d3f3",
           "#FF6692",
           "#B6E880",
           "#FF97FF",
           "#FECB52"
          ],
          "font": {
           "color": "#2a3f5f"
          },
          "geo": {
           "bgcolor": "white",
           "lakecolor": "white",
           "landcolor": "#E5ECF6",
           "showlakes": true,
           "showland": true,
           "subunitcolor": "white"
          },
          "hoverlabel": {
           "align": "left"
          },
          "hovermode": "closest",
          "mapbox": {
           "style": "light"
          },
          "paper_bgcolor": "white",
          "plot_bgcolor": "#E5ECF6",
          "polar": {
           "angularaxis": {
            "gridcolor": "white",
            "linecolor": "white",
            "ticks": ""
           },
           "bgcolor": "#E5ECF6",
           "radialaxis": {
            "gridcolor": "white",
            "linecolor": "white",
            "ticks": ""
           }
          },
          "scene": {
           "xaxis": {
            "backgroundcolor": "#E5ECF6",
            "gridcolor": "white",
            "gridwidth": 2,
            "linecolor": "white",
            "showbackground": true,
            "ticks": "",
            "zerolinecolor": "white"
           },
           "yaxis": {
            "backgroundcolor": "#E5ECF6",
            "gridcolor": "white",
            "gridwidth": 2,
            "linecolor": "white",
            "showbackground": true,
            "ticks": "",
            "zerolinecolor": "white"
           },
           "zaxis": {
            "backgroundcolor": "#E5ECF6",
            "gridcolor": "white",
            "gridwidth": 2,
            "linecolor": "white",
            "showbackground": true,
            "ticks": "",
            "zerolinecolor": "white"
           }
          },
          "shapedefaults": {
           "line": {
            "color": "#2a3f5f"
           }
          },
          "ternary": {
           "aaxis": {
            "gridcolor": "white",
            "linecolor": "white",
            "ticks": ""
           },
           "baxis": {
            "gridcolor": "white",
            "linecolor": "white",
            "ticks": ""
           },
           "bgcolor": "#E5ECF6",
           "caxis": {
            "gridcolor": "white",
            "linecolor": "white",
            "ticks": ""
           }
          },
          "title": {
           "x": 0.05
          },
          "xaxis": {
           "automargin": true,
           "gridcolor": "white",
           "linecolor": "white",
           "ticks": "",
           "title": {
            "standoff": 15
           },
           "zerolinecolor": "white",
           "zerolinewidth": 2
          },
          "yaxis": {
           "automargin": true,
           "gridcolor": "white",
           "linecolor": "white",
           "ticks": "",
           "title": {
            "standoff": 15
           },
           "zerolinecolor": "white",
           "zerolinewidth": 2
          }
         }
        },
        "xaxis": {
         "anchor": "y",
         "domain": [
          0,
          1
         ],
         "title": {
          "text": "Year"
         }
        },
        "yaxis": {
         "anchor": "x",
         "domain": [
          0,
          1
         ],
         "title": {
          "text": "Period life expectancy at birth - Sex: total - Age: 0"
         }
        }
       }
      }
     },
     "metadata": {},
     "output_type": "display_data"
    }
   ],
   "source": [
    "continents = ['Asia','Africa','Europe','Oceania','Northern America','Latin America and the Caribbean']\n",
    "df_filtered = df_life_exp[df_life_exp['Entity'].isin(continents) & (df_life_exp[\"Year\"] > 1850)]\n",
    "fig = px.line(df_filtered, x='Year', y='Period life expectancy at birth - Sex: total - Age: 0', color='Entity') \n",
    "fig.show()"
   ]
  },
  {
   "cell_type": "markdown",
   "metadata": {},
   "source": [
    "The sudden decline in life expectancy in Asia in 1960 could be due to the [**great chinese famine (1959 -1961)**](https://en.wikipedia.org/wiki/Great_Chinese_Famine) causing death of 15 - 55 million people."
   ]
  },
  {
   "cell_type": "code",
   "execution_count": null,
   "metadata": {},
   "outputs": [],
   "source": []
  },
  {
   "cell_type": "code",
   "execution_count": null,
   "metadata": {},
   "outputs": [],
   "source": []
  },
  {
   "cell_type": "code",
   "execution_count": null,
   "metadata": {},
   "outputs": [],
   "source": []
  },
  {
   "cell_type": "code",
   "execution_count": null,
   "metadata": {},
   "outputs": [],
   "source": []
  },
  {
   "cell_type": "markdown",
   "metadata": {},
   "source": [
    "# GDP Part"
   ]
  },
  {
   "cell_type": "markdown",
   "metadata": {},
   "source": []
  },
  {
   "cell_type": "code",
   "execution_count": 6,
   "metadata": {},
   "outputs": [
    {
     "data": {
      "text/html": [
       "<div>\n",
       "<style scoped>\n",
       "    .dataframe tbody tr th:only-of-type {\n",
       "        vertical-align: middle;\n",
       "    }\n",
       "\n",
       "    .dataframe tbody tr th {\n",
       "        vertical-align: top;\n",
       "    }\n",
       "\n",
       "    .dataframe thead th {\n",
       "        text-align: right;\n",
       "    }\n",
       "</style>\n",
       "<table border=\"1\" class=\"dataframe\">\n",
       "  <thead>\n",
       "    <tr style=\"text-align: right;\">\n",
       "      <th></th>\n",
       "      <th>Entity</th>\n",
       "      <th>Code</th>\n",
       "      <th>Year</th>\n",
       "      <th>GDP per capita, PPP (constant 2021 international $)</th>\n",
       "    </tr>\n",
       "  </thead>\n",
       "  <tbody>\n",
       "    <tr>\n",
       "      <th>0</th>\n",
       "      <td>Afghanistan</td>\n",
       "      <td>AFG</td>\n",
       "      <td>2000</td>\n",
       "      <td>1617.8264</td>\n",
       "    </tr>\n",
       "    <tr>\n",
       "      <th>1</th>\n",
       "      <td>Afghanistan</td>\n",
       "      <td>AFG</td>\n",
       "      <td>2001</td>\n",
       "      <td>1454.1108</td>\n",
       "    </tr>\n",
       "    <tr>\n",
       "      <th>2</th>\n",
       "      <td>Afghanistan</td>\n",
       "      <td>AFG</td>\n",
       "      <td>2002</td>\n",
       "      <td>1774.3087</td>\n",
       "    </tr>\n",
       "    <tr>\n",
       "      <th>3</th>\n",
       "      <td>Afghanistan</td>\n",
       "      <td>AFG</td>\n",
       "      <td>2003</td>\n",
       "      <td>1815.9282</td>\n",
       "    </tr>\n",
       "    <tr>\n",
       "      <th>4</th>\n",
       "      <td>Afghanistan</td>\n",
       "      <td>AFG</td>\n",
       "      <td>2004</td>\n",
       "      <td>1776.9182</td>\n",
       "    </tr>\n",
       "  </tbody>\n",
       "</table>\n",
       "</div>"
      ],
      "text/plain": [
       "        Entity Code  Year  GDP per capita, PPP (constant 2021 international $)\n",
       "0  Afghanistan  AFG  2000                                          1617.8264  \n",
       "1  Afghanistan  AFG  2001                                          1454.1108  \n",
       "2  Afghanistan  AFG  2002                                          1774.3087  \n",
       "3  Afghanistan  AFG  2003                                          1815.9282  \n",
       "4  Afghanistan  AFG  2004                                          1776.9182  "
      ]
     },
     "execution_count": 6,
     "metadata": {},
     "output_type": "execute_result"
    }
   ],
   "source": [
    "df_gdp = pd.read_csv('gdp-per-capita-worldbank.csv')\n",
    "df_gdp.head()"
   ]
  }
 ],
 "metadata": {
  "kernelspec": {
   "display_name": "Python 3",
   "language": "python",
   "name": "python3"
  },
  "language_info": {
   "codemirror_mode": {
    "name": "ipython",
    "version": 3
   },
   "file_extension": ".py",
   "mimetype": "text/x-python",
   "name": "python",
   "nbconvert_exporter": "python",
   "pygments_lexer": "ipython3",
   "version": "3.11.9"
  }
 },
 "nbformat": 4,
 "nbformat_minor": 2
}
